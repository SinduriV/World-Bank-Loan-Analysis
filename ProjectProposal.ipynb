{
 "cells": [
  {
   "cell_type": "markdown",
   "metadata": {},
   "source": [
    "# IST 652 PROJECT PROPOSAL \n",
    "\n",
    "\n",
    "The final project for IST652 involves locating an open data set or a group of data sets of interest, formulating an inquiry or set of inquiries that could be addressed with the data,processing the data set(s) in a Jupyter Notebook environment using Python, and conducting some analyses on the data to illuminate the inquiry. The project focuses on open data in order to ensure that your chain of transformations and analysis is\n",
    "reproducible. \n",
    "\n",
    "This is the FIRST DELIVERABLE \n",
    "\n",
    "\n",
    "## Project Objective\n",
    "\n",
    "Primary objectives for the project are ..\n",
    "\n",
    "- Demonstrate your ability to write Python scripts to access and process data.\n",
    "- Describe steps taken to prepare the data for analysis. For example how did you access and ingest the data, data wrangling, formatting, feature engineering and other steps. \n",
    "- Develop a research questions you are hoping to answer from the data collected.\n",
    "- Clearly articulate findings from analysis and summarizes impactful findings.\n",
    "- Collaborate as a team.\n",
    "\n",
    "\n"
   ]
  },
  {
   "cell_type": "markdown",
   "metadata": {},
   "source": [
    "## Analysis Team \n",
    "\n",
    "List team members below and their roles (note roles may be modified in the second deliverable)\n",
    "\n",
    "`--== Double-Click and Write Your Project Summary Below This Line  ==--`\n",
    "\n",
    "Austin - Reasearch questions\n",
    "Chandan - Reasearch questions\n",
    "Sinduri - Ideation & Project summary\n",
    "Uday - Ideation & Project summary\n"
   ]
  },
  {
   "cell_type": "markdown",
   "metadata": {},
   "source": [
    "## Phase 1: Ideation\n",
    "\n",
    "The goal of this phase is to outline the specific goals and objectives of your project; include evidence of its feasibility by including citations of resources you will use to complete the code.\n"
   ]
  },
  {
   "cell_type": "markdown",
   "metadata": {},
   "source": [
    "### Step 1: Project Summary \n",
    "\n",
    "Write a brief summary of your project ideas, In 250 - 500 words.\n",
    "\n",
    "`--== Double-Click and Write Below this Line  ==--`\n",
    "\n",
    "## Project Summary: Analysis of World Bank Loan Data\n",
    "### Objective\n",
    "The primary objective of this project is to conduct a comprehensive analysis of World Bank loan data to gain insights into global financial aid distribution, loan performance, and economic impacts on borrowing countries. The objective of this study is to find trends, patterns, and correlations in the dataset, which can give economists, development organizations, and policymakers useful information.\n",
    "### Dataset Overview\n",
    "The dataset consists of multiple columns capturing detailed information about each loan. Key columns include:\n",
    "#### Loan Number: \n",
    "Unique identifier for each loan.\n",
    "#### Region and Country Code: \n",
    "Geographical details of the borrowing country.\n",
    "#### Country and Borrower: \n",
    "Name of the borrowing country and the borrower entity.\n",
    "#### Guarantor Country Code and Guarantor: \n",
    "Information about any guarantor for the loan.\n",
    "#### Loan Type and Loan Status: \n",
    "Categorization of the loan and its current status.\n",
    "#### Interest Rate and Currency of Commitment: \n",
    "Financial terms of the loan.\n",
    "#### Project ID and Project Name: \n",
    "Details about the projects funded by the loans.\n",
    "#### Original Principal Amount: \n",
    "The initial loan amount approved.\n",
    "#### Cancelled Amount: \n",
    "Portion of the loan that was cancelled.\n",
    "#### Undisbursed and Disbursed Amounts: \n",
    "Amounts that are yet to be disbursed and those already disbursed.\n",
    "#### Repaid to IBRD and Due to IBRD: \n",
    "Amounts repaid to and due to the International Bank for Reconstruction and Development.\n",
    "#### Exchange Adjustment: \n",
    "Adjustments due to currency exchange fluctuations.\n",
    "#### Borrower's Obligation: \n",
    "Total financial obligation of the borrower.\n",
    "#### Loans Held: \n",
    "Current status of the loans held by the borrower.\n",
    "#### First and Last Repayment Dates: \n",
    "Timeline of the loan repayment.\n",
    "#### Agreement Signing, Board Approval, and Effective Dates: \n",
    "Key dates related to the loan agreement and approval process.\n",
    "## Methodology\n",
    "The analysis will be conducted using various Data processing and Visualization techniques. The key steps include:\n",
    "#### Data preprocessing: \n",
    "This involves addressing duplicates, missing values, and data standardization as well as cleaning and preparing the data for analysis. \n",
    "#### Exploratory Data Analysis (EDA): \n",
    "Use EDA to comprehend how various variables are distributed and related to one another. This covers the use of heatmaps, scatter plots, and histograms to visualize data. \n",
    "#### Trend Analysis: \n",
    "Determining patterns in loan amounts, disbursements, repayments, and cancellations over a period of time. \n",
    "#### Geographical Analysis: \n",
    "Mapping loan distributions by region and country to identify geographical patterns in financial aid.\n",
    "#### Loan Performance Analysis: \n",
    "Assessing the performance of loans based on repayment rates, defaults, and obligations. This includes calculating key performance metrics.\n",
    "### Expected Outcomes\n",
    "#### Insights into Global Financial Aid: \n",
    "Detailed understanding of how loans are distributed across different regions and countries.\n",
    "#### Loan Performance Metrics: \n",
    "Identification of key factors influencing loan performance and repayment.\n",
    "\n",
    "\n"
   ]
  },
  {
   "cell_type": "markdown",
   "metadata": {},
   "source": [
    "### Step 2: Datasets Research\n",
    "\n",
    "Select a dataset or a combination of datasets for your project. Many data sets are available at sites such as the World Bank ( http://data.worldbank.org ), the U.S. Federal Government ( http://www.data.gov ), - other potential sites for data sets will\n",
    "be provided by the instructor but it is recommended that you search for open data sets too on your own. However, do not use datasets from Kaggle.com. \n",
    "\n",
    "Note: The number of records (rows) present in your dataset (or total combination of datasets) must exceed 4,000 with at least 8 different categories (columns) of data.\n",
    "\n",
    "\n",
    "Clearly describe from where your data was located.Why is this resource an authority. Provide a shortlist of datasets your team is considering for your final project. Provide references to the dataset as applicable.  Include any other components necessary.\n",
    "\n",
    "\n",
    "`--== Double-Click and Write Below this Line  ==--`\n",
    "\n",
    "### Data Source and Authority:\n",
    "The dataset is sourced from the World Bank's open data platform, a reliable authority known for its comprehensive global development and financial data.\n",
    "\n",
    "### Dataset Overview:\n",
    "#### Link:\n",
    "https://finances.worldbank.org/Loans-and-Credits/IBRD-Statement-of-Loans-Latest-Available-Snapshot/sfv5-tf7p/data_preview\n",
    "#### Details:\n",
    "Over 9153 records, with key data columns including Country, Loan Number, Borrower, Loan Status, and financial details like Original Principal, Disbursed, and Repaid amounts.\n",
    "### Additional Analysis Components:\n",
    "#### Data Integrity and Preprocessing: \n",
    "Check for completeness, correct any errors, and prepare data for analysis.\n",
    "#### Analytical Tools: \n",
    "Use Python libraries such as Pandas for data manipulation and Matplotlib for visualization.\n",
    "#### References:\n",
    "World Bank, IBRD Loans and Credits. Available at World Bank - Finances\n",
    "\n"
   ]
  },
  {
   "cell_type": "markdown",
   "metadata": {},
   "source": [
    "### Step 2a: Objectives \n",
    "\n",
    "What have you learned about your dataset(s) so far, and what are the questions you plan to answer with the data (a minimum of 5 questions is a good start).\n",
    "\n",
    "`--== Double-click and write below this line  ==--`\n",
    "\n",
    "\n"
   ]
  },
  {
   "cell_type": "markdown",
   "metadata": {},
   "source": [
    "### References\n",
    "\n",
    "\n",
    "`--== Double-click and write below this line  ==--`\n",
    "\n"
   ]
  },
  {
   "cell_type": "code",
   "execution_count": null,
   "metadata": {},
   "outputs": [],
   "source": []
  }
 ],
 "metadata": {
  "kernelspec": {
   "display_name": "Python 3 (ipykernel)",
   "language": "python",
   "name": "python3"
  },
  "language_info": {
   "codemirror_mode": {
    "name": "ipython",
    "version": 3
   },
   "file_extension": ".py",
   "mimetype": "text/x-python",
   "name": "python",
   "nbconvert_exporter": "python",
   "pygments_lexer": "ipython3",
   "version": "3.11.7"
  },
  "varInspector": {
   "cols": {
    "lenName": 16,
    "lenType": 16,
    "lenVar": 40
   },
   "kernels_config": {
    "python": {
     "delete_cmd_postfix": "",
     "delete_cmd_prefix": "del ",
     "library": "var_list.py",
     "varRefreshCmd": "print(var_dic_list())"
    },
    "r": {
     "delete_cmd_postfix": ") ",
     "delete_cmd_prefix": "rm(",
     "library": "var_list.r",
     "varRefreshCmd": "cat(var_dic_list()) "
    }
   },
   "types_to_exclude": [
    "module",
    "function",
    "builtin_function_or_method",
    "instance",
    "_Feature"
   ],
   "window_display": false
  }
 },
 "nbformat": 4,
 "nbformat_minor": 4
}
